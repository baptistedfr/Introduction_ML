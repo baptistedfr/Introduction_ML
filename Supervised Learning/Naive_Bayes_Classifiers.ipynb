{
 "cells": [
  {
   "cell_type": "markdown",
   "metadata": {},
   "source": [
    "Quite similar to linear models but even faster in training but with worse performance.\n",
    "\n",
    "The reason that naive Bayes models are so efficient is that they learn parameters by\n",
    "looking at each feature individually and collect simple per-class statistics from each\n",
    "feature\n",
    "\n",
    "3 types of Naive Bayes Classifiers: **GaussianNB, BernoulliNB, and MultinomialNB**\n",
    "\n",
    "GaussianNB can be applied to\n",
    "any **continuous data**, while BernoulliNB assumes **binary data** and MultinomialNB\n",
    "assumes **count data** (that is, that each feature represents an integer count of something,\n",
    "like how often a word appears in a sentence). BernoulliNB and MultinomialNB\n",
    "are mostly used in text data classification.\n",
    "\n",
    "The BernoulliNB classifier counts how often **every feature of each class is not zero.**\n",
    "\n",
    "MultinomialNB takes into account the\n",
    "**average value** of each feature for each class, while GaussianNB stores the **average value**\n",
    "as well as the **standard deviation** of each feature for each class\n",
    "\n",
    "To make a prediction, a data point is compared to the statistics for each of the classes, and the best matching class is predicted"
   ]
  },
  {
   "cell_type": "code",
   "execution_count": 2,
   "metadata": {},
   "outputs": [],
   "source": [
    "import numpy as np"
   ]
  },
  {
   "cell_type": "code",
   "execution_count": 3,
   "metadata": {},
   "outputs": [
    {
     "name": "stdout",
     "output_type": "stream",
     "text": [
      "Feature counts:\n",
      "{0: array([0, 1, 0, 2]), 1: array([2, 0, 2, 1])}\n"
     ]
    }
   ],
   "source": [
    "X = np.array([[0, 1, 0, 1],\n",
    "[1, 0, 1, 1],\n",
    "[0, 0, 0, 1],\n",
    "[1, 0, 1, 0]])\n",
    "y = np.array([0, 1, 0, 1])\n",
    "counts = {}\n",
    "for label in np.unique(y):\n",
    "# iterate over each class\n",
    "# count (sum) entries of 1 per feature\n",
    "    counts[label] = X[y == label].sum(axis=0)\n",
    "print(\"Feature counts:\\n{}\".format(counts))"
   ]
  },
  {
   "cell_type": "markdown",
   "metadata": {},
   "source": [
    "MultinomialNB and BernoulliNB have a single parameter, alpha, which controls\n",
    "model complexity. The way alpha works is that the algorithm adds to the data alpha many virtual data points that have positive values for all the features. \n",
    "\n",
    "This results in a\n",
    "“smoothing” of the statistics. A large alpha means more smoothing, resulting in less\n",
    "complex models. The algorithm’s performance is relatively robust to the setting of\n",
    "alpha, meaning that setting alpha is not critical for good performance. However,\n",
    "tuning it usually improves accuracy somewhat"
   ]
  }
 ],
 "metadata": {
  "kernelspec": {
   "display_name": "Python 3",
   "language": "python",
   "name": "python3"
  },
  "language_info": {
   "codemirror_mode": {
    "name": "ipython",
    "version": 3
   },
   "file_extension": ".py",
   "mimetype": "text/x-python",
   "name": "python",
   "nbconvert_exporter": "python",
   "pygments_lexer": "ipython3",
   "version": "3.11.3"
  }
 },
 "nbformat": 4,
 "nbformat_minor": 2
}
