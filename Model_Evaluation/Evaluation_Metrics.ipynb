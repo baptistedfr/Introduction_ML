{
 "cells": [
  {
   "cell_type": "markdown",
   "metadata": {},
   "source": [
    "So far, we have evaluated **classification performance using accuracy** and **regression performance using R²**. However, these are\n",
    "only two of the many possible ways to summarize how well a supervised model performs on a given dataset.*\n",
    "\n",
    "When selecting a metric, you should always have the end goal of the machine learning application in mind. In practice, we are usually interested not just in making\n",
    "accurate predictions, but in using these predictions as part of a larger decisionmaking process. Before picking a machine learning metric, you should think about\n",
    "the high-level goal of the application, often called the **business metric**. \n",
    "\n",
    "The consequences of choosing a particular algorithm for a machine learning application are called the **business impact**\n"
   ]
  },
  {
   "cell_type": "markdown",
   "metadata": {},
   "source": [
    "## Binary Classification"
   ]
  },
  {
   "cell_type": "markdown",
   "metadata": {},
   "source": [
    "For **binary classification**, we often speak of a **positive class and a negative class**, with\n",
    "the understanding that the positive class is the one we are looking for."
   ]
  },
  {
   "cell_type": "code",
   "execution_count": null,
   "metadata": {},
   "outputs": [],
   "source": []
  }
 ],
 "metadata": {
  "language_info": {
   "name": "python"
  }
 },
 "nbformat": 4,
 "nbformat_minor": 2
}
