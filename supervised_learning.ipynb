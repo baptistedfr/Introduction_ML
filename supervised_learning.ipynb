{
 "cells": [
  {
   "cell_type": "markdown",
   "metadata": {},
   "source": [
    "# Supervised Learning"
   ]
  },
  {
   "cell_type": "markdown",
   "metadata": {},
   "source": [
    "There are two major types of supervised machine learning problems, called **classification** and **regression**\n",
    "\n",
    "In classification, the goal is to **predict a class label**, which is a choice from a predefined\n",
    "list of possibilities. Classification is sometimes separated into binary classification,\n",
    "which is the special case of distinguishing between exactly two classes, and multiclass\n",
    "classification, which is classification between more than two classes.\n",
    "\n",
    "For regression tasks, the goal is to predict a **continuous number**, or a floating-point number in programming terms"
   ]
  },
  {
   "cell_type": "code",
   "execution_count": null,
   "metadata": {},
   "outputs": [],
   "source": []
  }
 ],
 "metadata": {
  "language_info": {
   "name": "python"
  }
 },
 "nbformat": 4,
 "nbformat_minor": 2
}
