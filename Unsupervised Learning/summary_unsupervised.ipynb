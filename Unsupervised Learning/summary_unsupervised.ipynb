{
 "cells": [
  {
   "cell_type": "markdown",
   "metadata": {},
   "source": [
    "Unsupervised learning subsumes all kinds of machine\n",
    "learning where there is **no known output**, no teacher to instruct the learning algorithm.\n",
    "In unsupervised learning, the learning algorithm is just shown the input data\n",
    "and asked to extract knowledge from this data."
   ]
  },
  {
   "cell_type": "markdown",
   "metadata": {},
   "source": [
    "We will look into two kinds of unsupervised learning in this chapter: **transformations of the dataset and clustering.**\n",
    "\n",
    "Unsupervised transformations of a dataset are algorithms that **create a new representation of the data** which might be easier for humans or other machine learning algorithms to understand compared to the original representation of the data.\n",
    "\n",
    "A common application of unsupervised transformations is dimensionality reduction, which takes a high-dimensional representation of the data, consisting of many features, and finds a new way to represent this data that summarizes the essential characteristics with\n",
    "fewer features.\n",
    "\n",
    "**Clustering algorithms**, on the other hand, partition data into distinct groups of similar\n",
    "items\n",
    "\n",
    "A major challenge in unsupervised learning is **evaluating whether the algorithm learned something useful**. Unsupervised learning algorithms are usually applied to\n",
    "data that does not contain any label information, so we don’t know what the right\n",
    "output should be. Therefore, it is very hard to say whether a model “did well.”"
   ]
  },
  {
   "cell_type": "code",
   "execution_count": null,
   "metadata": {},
   "outputs": [],
   "source": []
  }
 ],
 "metadata": {
  "language_info": {
   "name": "python"
  }
 },
 "nbformat": 4,
 "nbformat_minor": 2
}
