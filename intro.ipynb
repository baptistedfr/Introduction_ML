{
 "cells": [
  {
   "cell_type": "markdown",
   "metadata": {},
   "source": [
    "Afin de lancer l'environnement virtuel il faut aller dans le dossier ML et ecrire la commande .\\env\\Scripts\\activate"
   ]
  },
  {
   "cell_type": "markdown",
   "metadata": {},
   "source": [
    "Verification de la connection au compte github ssh -T git@github.com "
   ]
  },
  {
   "cell_type": "markdown",
   "metadata": {},
   "source": [
    "Verification de l'état : git status\n",
    "Ajout de fichiers: git add .\n",
    "Commit : git commit -m \"Test\"\n",
    "Push : git push origin main"
   ]
  },
  {
   "cell_type": "markdown",
   "metadata": {},
   "source": [
    "### Definitions\n",
    "Machine learning algorithms that learn from input/output pairs are called **supervised learning** algorithms because a “teacher” provides supervision to the algorithms in the form of the desired outputs for each example that they learn from.\n",
    "\n",
    "**Unsupervised algorithms** are the other type of algorithm that we will cover in this\n",
    "book. In unsupervised learning, only the input data is known, and no known output\n",
    "data is given to the algorithm. While there are many successful applications of these\n",
    "methods, they are usually harder to understand and evaluate\n",
    "\n",
    "Each entity or row here is known as a **sample** (or data point) in machine learning,\n",
    "while the columns—the properties that describe these entities—are called **features**."
   ]
  },
  {
   "cell_type": "code",
   "execution_count": 2,
   "metadata": {},
   "outputs": [
    {
     "name": "stdout",
     "output_type": "stream",
     "text": [
      "Python version: 3.11.3 (tags/v3.11.3:f3909b8, Apr  4 2023, 23:49:59) [MSC v.1934 64 bit (AMD64)]\n",
      "pandas version: 2.1.3\n",
      "matplotlib version: 3.8.2\n",
      "NumPy version: 1.26.2\n",
      "SciPy version: 1.11.4\n",
      "IPython version: 8.13.2\n",
      "scikit-learn version: 1.5.1\n"
     ]
    }
   ],
   "source": [
    "import sys\n",
    "print(\"Python version: {}\".format(sys.version))\n",
    "import pandas as pd\n",
    "print(\"pandas version: {}\".format(pd.__version__))\n",
    "import matplotlib\n",
    "print(\"matplotlib version: {}\".format(matplotlib.__version__))\n",
    "import numpy as np\n",
    "print(\"NumPy version: {}\".format(np.__version__))\n",
    "import scipy as sp\n",
    "print(\"SciPy version: {}\".format(sp.__version__))\n",
    "import IPython\n",
    "print(\"IPython version: {}\".format(IPython.__version__))\n",
    "import sklearn\n",
    "print(\"scikit-learn version: {}\".format(sklearn.__version__))\n"
   ]
  },
  {
   "cell_type": "markdown",
   "metadata": {},
   "source": [
    "## Exemple IRIS Classification "
   ]
  },
  {
   "cell_type": "markdown",
   "metadata": {},
   "source": [
    "Let’s assume that a hobby botanist is interested in distinguishing the species of some\n",
    "iris flowers that she has found. She has collected some measurements associated with\n",
    "each iris: the length and width of the petals and the length and width of the sepals, all\n",
    "measured in centimeters.\n",
    "\n",
    "She also has the measurements of some irises that have been previously identified by\n",
    "an expert botanist as belonging to the species setosa, versicolor, or virginica.\n",
    "Our goal is to build a machine learning model that can learn from the measurements\n",
    "of these irises whose species is known, so that we can predict the species for a new\n",
    "iris.\n",
    "\n",
    "Because we have measurements for which we know the correct species of iris, this is a\n",
    "supervised learning problem. In this problem, we want to predict one of several\n",
    "options (the species of iris). This is an example of a **classification problem**.\n",
    "\n",
    "The possible outputs (different species of irises) are called **classes**\n",
    "\n",
    "The desired output for a single data point (an iris) is the species of this flower. For a\n",
    "particular data point, the species it belongs to is called its **label**."
   ]
  },
  {
   "cell_type": "code",
   "execution_count": 3,
   "metadata": {},
   "outputs": [],
   "source": [
    "## Loading of the data\n",
    "from sklearn.datasets import load_iris\n",
    "iris_dataset = load_iris()"
   ]
  },
  {
   "cell_type": "code",
   "execution_count": 9,
   "metadata": {},
   "outputs": [
    {
     "name": "stdout",
     "output_type": "stream",
     "text": [
      "Keys of iris_dataset: \n",
      "dict_keys(['data', 'target', 'frame', 'target_names', 'DESCR', 'feature_names', 'filename', 'data_module'])\n",
      "Target names: ['setosa' 'versicolor' 'virginica']\n",
      "Feature names: \n",
      "['sepal length (cm)', 'sepal width (cm)', 'petal length (cm)', 'petal width (cm)']\n",
      "Type of data: <class 'numpy.ndarray'>\n",
      "Shape of data: (150, 4)\n"
     ]
    }
   ],
   "source": [
    "print(\"Keys of iris_dataset: \\n{}\".format(iris_dataset.keys()))\n",
    "#print(iris_dataset['DESCR'][:193] + \"\\n...\")\n",
    "\n",
    "#The value of the key target_names is an array of strings, containing the species of flower that we want to predict\n",
    "print(\"Target names: {}\".format(iris_dataset['target_names']))\n",
    "\n",
    "#The value of feature_names is a list of strings, giving the description of each feature\n",
    "print(\"Feature names: \\n{}\".format(iris_dataset['feature_names']))\n"
   ]
  },
  {
   "cell_type": "code",
   "execution_count": 12,
   "metadata": {},
   "outputs": [
    {
     "name": "stdout",
     "output_type": "stream",
     "text": [
      "Type of data: <class 'numpy.ndarray'>\n",
      "Shape of data: (150, 4)\n",
      "First five columns of data:\n",
      "[[5.1 3.5 1.4 0.2]\n",
      " [4.9 3.  1.4 0.2]\n",
      " [4.7 3.2 1.3 0.2]\n",
      " [4.6 3.1 1.5 0.2]\n",
      " [5.  3.6 1.4 0.2]]\n"
     ]
    }
   ],
   "source": [
    "# Input\n",
    "print(\"Type of data: {}\".format(type(iris_dataset['data'])))\n",
    "print(\"Shape of data: {}\".format(iris_dataset['data'].shape))\n",
    "print(\"First five columns of data:\\n{}\".format(iris_dataset['data'][:5]))\n"
   ]
  },
  {
   "cell_type": "code",
   "execution_count": null,
   "metadata": {},
   "outputs": [],
   "source": [
    "# Output\n",
    "print(\"Shape of target: {}\".format(iris_dataset['target'].shape))\n",
    "print(\"Target:\\n{}\".format(iris_dataset['target']))"
   ]
  },
  {
   "cell_type": "markdown",
   "metadata": {},
   "source": [
    "P31"
   ]
  }
 ],
 "metadata": {
  "kernelspec": {
   "display_name": "Python 3",
   "language": "python",
   "name": "python3"
  },
  "language_info": {
   "codemirror_mode": {
    "name": "ipython",
    "version": 3
   },
   "file_extension": ".py",
   "mimetype": "text/x-python",
   "name": "python",
   "nbconvert_exporter": "python",
   "pygments_lexer": "ipython3",
   "version": "3.11.3"
  }
 },
 "nbformat": 4,
 "nbformat_minor": 2
}
